{
 "cells": [
  {
   "cell_type": "markdown",
   "metadata": {},
   "source": [
    "**(1,5 pontos) Encontre a solução geral para a seguinte equação diferencial: $y'= (y^2) + 8xy + 16\\cdot(x^2)$**\n",
    "\n",
    "$y'= y^2 + 8xy + 16x^2 = (4x+y)^2$\n",
    "\n",
    "$u= y+ 4x$\n",
    "\n",
    "$\\frac{du}{dx}= 4 +\\frac{dy}{dx} \\;\\; \\therefore  \\frac{dy}{dx}= \\frac{du}{dx} - 4$\n",
    "\n",
    "$\\frac{du}{dx} - 4 = u^2$\n",
    "\n",
    "$\\frac{du}{dx}= u^2 + 4$\n",
    "\n",
    "$\\int du= \\int (u^2 +4)dx$ \n",
    "\n",
    "$u= u^2 + 4x + C$\n",
    "\n",
    "$ 4x + y = (4x+ y)^2 + 4x + C$\n",
    "\n",
    "$y= (4x+y)^2 + C$\n",
    "\n"
   ]
  },
  {
   "cell_type": "markdown",
   "metadata": {},
   "source": [
    "**(2,0 pontos) Encontre a solução para o seguinte problema de valor inicial:**\n",
    "\n",
    "$9y'-30y+25y=0$\n",
    "\n",
    "$y(0) = 3,3$ \n",
    "\n",
    "$y'(0) = 10$\n",
    "\n",
    "$\\;$\n",
    "\n",
    "$\\:$\n",
    "\n",
    "$9r^2 -30r + 25=0$\n",
    "\n",
    "$\\Delta= 0$\n",
    "\n",
    "D'Alembert\n",
    "\n",
    "$y= (c_1 + c_2 t)e^{\\frac{-b}{2a}t}$\n",
    "\n",
    "$y(0)= (c_1 + 0 ) e^0= 3,3 \\therefore c_1= 3,3$\n",
    "\n",
    "\n",
    "$y'= c_2 e^{\\frac{5}{3}t} + \\frac{5}{3}(3,3 +c_2t)$\n",
    "\n",
    "$y'(0)= c_2+ \\frac{5}{3}(3,3)= c_2 + 5,5 = 10$\n",
    "\n",
    "$c_2= 4,5$\n",
    "\n",
    "$y= (3,3+ 4,5t)e^{\\frac{5}{3}t}$"
   ]
  },
  {
   "cell_type": "markdown",
   "metadata": {},
   "source": [
    "__________________________________________________________________________\n",
    "**(1,5 pontos) Encontre a solução para a seguinte EDO: $sen(x).cos(y).dx+cos(x).sen(y).dy = 0$.**\n",
    "\n",
    "$\\;$\n",
    "\n",
    "$M(x,y)dx + N(x, y)dy = 0$\n",
    "\n",
    "Critério de exatidão:\n",
    "\n",
    "$\\frac{\\partial M}{\\partial y} = \\frac{\\partial N}{\\partial x}$\n",
    "\n",
    "$\\frac{\\partial M}{\\partial y}= -sen(x) \\cdot sen(y)$\n",
    "\n",
    "$\\frac{\\partial N}{\\partial x}=  -sen(x) \\cdot sen(y)$\n",
    "\n",
    "Logo é exata.\n",
    "\n",
    "sabe-se que $df= \\frac{\\partial f}{\\partial x} dx + \\frac{\\partial f}{\\partial y} dy$\n",
    "\n",
    "$\\frac{\\partial f}{\\partial x}= M$\n",
    "\n",
    "$\\frac{\\partial f}{\\partial x}= sen(x).cos(y)$\n",
    "\n",
    "$f= \\int sen(x).cos(y = -cos(x)cos(y) + h(y)$\n",
    "\n",
    "Derivando novamente o f encontrado:\n",
    "\n",
    "$\\frac{\\partial f}{\\partial y}= cos(x)sen(y)+ h'(y)$\n",
    "\n",
    "Sabe-se que:\n",
    "$\\frac{\\partial f}{\\partial y}= N = cos(x).sen(y)$\n",
    "\n",
    "logo: $cos(x)sen(y)+ h'(y) = cos(x).sen(y)  \\;\\;\\;  \\therefore  h'(y)= 0$ e  $h(y)= K$\n",
    "\n",
    "$f= -cos(x)cos(y) + K = C$\n",
    "\n",
    "$\\;$\n",
    "\n",
    "$-cos(x)cos(y) = C$\n"
   ]
  },
  {
   "cell_type": "markdown",
   "metadata": {},
   "source": [
    "**(2,0 pontos) Encontre a solução para o seguinte problema de valor inicial:**\n",
    "\n",
    "$(x^2)y''+3xy'+y=0$, \n",
    "\n",
    "$y(1)=3.6$,\n",
    "\n",
    "$y'(1)=0.4$\n"
   ]
  },
  {
   "cell_type": "markdown",
   "metadata": {},
   "source": [
    "(1,5 pontos) Encontre a solução geral para a seguinte EDO: $y''+3y=18(x^2)$."
   ]
  },
  {
   "cell_type": "markdown",
   "metadata": {},
   "source": [
    "**(1,5 pontos) Encontre a solução da seguinte EDO: $(ax+by)dx+(cx+hy)dy=0\\;$ sabendo que a mesma é exata. Qual a relação existente entre as constantes a, b, c e h para isso?**\n",
    "\n",
    "$\\;$\n",
    "\n",
    "\n",
    "Se é exata, $\\frac{\\partial M}{\\partial y} = \\frac{\\partial N}{\\partial x}$\n",
    "\n",
    "$\\frac{\\partial M}{\\partial y}= \\frac{\\partial (ax+by)}{\\partial y}= b$\n",
    "\n",
    "$\\frac{\\partial N}{\\partial x}= \\frac{\\partial (cx+ hy)}{\\partial x}= c$ \n",
    "\n",
    "Logo: $b=c$ \n",
    "\n",
    "sabe-se que $df= \\frac{\\partial f}{\\partial x} dx + \\frac{\\partial f}{\\partial y} dy$\n",
    "\n",
    "$\\frac{\\partial f}{\\partial x}= M$\n",
    "\n",
    "$\\frac{\\partial f}{\\partial x}= ax+by$\n",
    "\n",
    "$f=\\frac{ax^2}{2}+ byx + h(y)$\n",
    "\n",
    "$\\frac{\\partial f}{\\partial y}= bx+ h'(y)$\n",
    "\n",
    "Temos também que: $\\frac{\\partial f}{\\partial y}= N = cx+ hy$\n",
    "\n",
    "$bx+ h'(y) = cx+ hy$\n",
    "$h'(y) = \\frac{hy^2}{2}$\n",
    "\n",
    "$f= \\frac{ax^2}{2}+ byx + \\frac{hy^2}{2}$\n",
    "\n",
    "Sabendo que a Eq. é exata, a M e N não podem ser iguais.\n",
    "Tendo que $b=c$, logo, $a \\neq h$.\n"
   ]
  },
  {
   "cell_type": "code",
   "execution_count": null,
   "metadata": {},
   "outputs": [],
   "source": []
  }
 ],
 "metadata": {
  "kernelspec": {
   "display_name": "Python 3",
   "language": "python",
   "name": "python3"
  },
  "language_info": {
   "codemirror_mode": {
    "name": "ipython",
    "version": 3
   },
   "file_extension": ".py",
   "mimetype": "text/x-python",
   "name": "python",
   "nbconvert_exporter": "python",
   "pygments_lexer": "ipython3",
   "version": "3.7.6"
  }
 },
 "nbformat": 4,
 "nbformat_minor": 4
}
