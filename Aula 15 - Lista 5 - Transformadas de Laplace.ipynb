{
 "cells": [
  {
   "cell_type": "markdown",
   "metadata": {},
   "source": [
    "***Alunos:*** \n",
    "\n",
    "George Pontes da Cunha\n",
    "\n",
    "Nágila Oliveira Barbosa    "
   ]
  },
  {
   "cell_type": "markdown",
   "metadata": {},
   "source": [
    "______________________________________________________________________________________________\n",
    "Resolva\tos seguintes problemas de\tvalor\tinicial\tutilizando\ta\ttransformada\tde\tLaplace:\n",
    "\n",
    "a. y' − 5y = 0; y(0) = 2\n",
    "\n",
    "b. y' + y = t; y(t = 0) = 2\n",
    "\n",
    "c. y''' + y′ = $e^{t}$; y(t = 0) = y′(0) = y′′(0) = 0"
   ]
  },
  {
   "cell_type": "markdown",
   "metadata": {},
   "source": [
    "___________________________________________________________\n",
    "**a. y' − 5y = 0; y(0) = 2**"
   ]
  },
  {
   "cell_type": "markdown",
   "metadata": {},
   "source": [
    "$\\mathcal{L}(y'- 5y)= \\mathcal{L}(y') + 5\\mathcal{L}(y)= 0$\n",
    "\n",
    "$[s\\cdot \\mathcal{L}(y) - y(0)] + 5\\mathcal{L}(y) = 0$\n",
    "\n",
    "$(s-5)\\cdot\\mathcal{L}(y) - 2 = 0 $\n",
    "\n",
    "$\\mathcal{L}(y)= 2 \\cdot \\frac{1}{s-5}$ \n",
    "\n",
    "Sabendo que $\\mathcal{L}^{-1}(\\frac{1}{s- a}) = e^{at}$\n",
    "\n",
    "$y(t)= 2\\cdot e^{5t}$\n",
    "\n",
    "\n",
    "\n",
    "\n"
   ]
  },
  {
   "cell_type": "markdown",
   "metadata": {},
   "source": [
    "___________________________________________________________________\n",
    "**b. y' + y = t; y(t = 0) = 2**\n"
   ]
  },
  {
   "cell_type": "markdown",
   "metadata": {},
   "source": [
    "$\\mathcal{L}(y' + y) = \\mathcal{L}(t)$\n",
    "             \n",
    "$\\mathcal{L}(y')+ \\mathcal{L}(y)=\\mathcal{L}(t)$\n",
    "\n",
    "$[s \\mathcal{L}- y(0)]+\\mathcal{L}(y)= \\mathcal{L}(t) $\n",
    "\n",
    "$(s+1)\\mathcal{L}(y) - y(0)= \\frac{1!}{s^(1+1)} = \\frac{1}{s^2}$\n",
    "\n",
    "$(s+1)\\mathcal{L}(y) - 2 = \\frac{1}{s^2}$\n",
    "\n",
    "\n",
    "\n",
    "\n"
   ]
  },
  {
   "cell_type": "markdown",
   "metadata": {},
   "source": [
    "\n",
    "$\\mathcal{L}(y)= \\dfrac{\\frac{1}{s^2}}{s+1} =  \\frac{1}{s^2}\\cdot(s+1) + 2 \\cdot\\frac{1}{s+1}$\n",
    "\n",
    "$\\mathcal{L}(y) = \\frac{1}{s-0} + \\frac{1}{s^2} + 2\\cdot \\frac{1}{s- (-1)}$\n",
    "\n",
    "$y= e^{0t} + t + 2\\cdot e^{-t}$\n",
    "\n",
    "$y(t)= 1 + t +  2e^{-t}$"
   ]
  },
  {
   "cell_type": "markdown",
   "metadata": {},
   "source": [
    "**c. y''' + y′ = $𝑒^𝑡$; y(t = 0) = y′(0) = y′′(0) = 0**\n",
    "\n"
   ]
  },
  {
   "cell_type": "markdown",
   "metadata": {},
   "source": [
    "$\\mathcal{L}(y''')+\\mathcal{L}(y')= \\mathcal{L}(e^t)$\n",
    "\n",
    "$[s^3 \\mathcal{L}(y)- s^2 y(0) - sy'(0) - y''(0)] + [s\\mathcal{L}(y) - y(0)]= \\frac{1}{s-1}$\n",
    "\n",
    "$(s^3 + s)\\mathcal{L}(y) - (s^2 + 1)y(0) -sy'(0) - y''(0)= \\frac{1}{s-1}$\n",
    "\n",
    "$(s^3 + s)\\mathcal{L}(y) + 0 + 0 +0 = \\frac{1}{s-1}$\n",
    "\n",
    "$\\mathcal{L}(y)= \\frac{1}{(s-1)(s^3 + s)}$"
   ]
  },
  {
   "cell_type": "markdown",
   "metadata": {},
   "source": [
    "$\\frac{1}{(s)(s-1)(s^2+1)} = \\frac{a}{s}+ \\frac{b}{s-1}+ \\frac{c}{s^2+1}$\n",
    "\n",
    "$a(s-1)(s^2+1) + b(s)(s^2+1) + c(s)(s-1) = 1$\n",
    "\n",
    "$a(s^3+s-s^2-1) + b(s^3+s) + c(s^2-s) =1$\n",
    "\n",
    "$(a+b)s^3 + (-a+c)s^2 + (a+b-c)s + a = 1$\n",
    "\n",
    "$a =1$\n",
    "\n",
    "$(a+b-c) = 0\\Rightarrow b-c = 1$\n",
    "\n",
    "$a + b = 0 \\Rightarrow b = -1$\n",
    "\n",
    "$b - c = 1 \\Rightarrow c = -2$\n",
    "\n",
    "\n"
   ]
  },
  {
   "cell_type": "markdown",
   "metadata": {},
   "source": [
    "$\\mathcal{L}(𝑦)=\\frac{1}{s}+ \\frac{-1}{s-1}+ \\frac{-2}{s^2+1}$"
   ]
  },
  {
   "cell_type": "markdown",
   "metadata": {},
   "source": [
    "$\\mathcal{L}(𝑦)=\\frac{1}{s-0}+ (-1)\\frac{1}{s-1}+ (-2)\\frac{1}{s^2+1^2}$"
   ]
  },
  {
   "cell_type": "markdown",
   "metadata": {},
   "source": [
    "$y(t)= e^0 + -e^t -2 sen(t)$\n",
    "\n",
    "$y(t)= 1 + -e^t -2 sen(t)$"
   ]
  }
 ],
 "metadata": {
  "kernelspec": {
   "display_name": "Python 3",
   "language": "python",
   "name": "python3"
  },
  "language_info": {
   "codemirror_mode": {
    "name": "ipython",
    "version": 3
   },
   "file_extension": ".py",
   "mimetype": "text/x-python",
   "name": "python",
   "nbconvert_exporter": "python",
   "pygments_lexer": "ipython3",
   "version": "3.7.6"
  }
 },
 "nbformat": 4,
 "nbformat_minor": 4
}
