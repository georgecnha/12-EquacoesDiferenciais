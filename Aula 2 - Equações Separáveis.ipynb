{
 "cells": [
  {
   "cell_type": "markdown",
   "metadata": {
    "collapsed": true
   },
   "source": [
    "# Aula 2 – Equações Separáveis"
   ]
  },
  {
   "cell_type": "markdown",
   "metadata": {},
   "source": [
    "\n",
    " \n",
    "1) Resolva para x>=0 (maior ou igual à zero): (xˆ0.5)dy+dx = 0\n",
    "\n",
    "2) y'= cos(x+y)\n",
    "\n",
    "3) ((xˆ2)-xy+(yˆ2))dx-xydy=0"
   ]
  },
  {
   "cell_type": "markdown",
   "metadata": {},
   "source": [
    "### Cálculos"
   ]
  },
  {
   "cell_type": "markdown",
   "metadata": {},
   "source": [
    "#### 1) \n",
    "\n",
    "$(x^{0,5})dy +dx=0$\n",
    "\n",
    "$dy=\\frac{-dx}{x^{0,5}}$\n",
    "\n",
    "$\\Rightarrow \\int dy = - \\int \\frac {dx}{x^{0,5}}$\n",
    "\n",
    "$y = - \\left ( \\frac{x^{-0,5+1}}{-0,5+1} \\right)+C$\n",
    "\n",
    "$y = - \\left ( \\frac{x^{0,5}}{0,5} \\right)+C$\n",
    "\n",
    "$y = -2 \\cdot \\left (x^{0,5} \\right)+C$"
   ]
  },
  {
   "cell_type": "markdown",
   "metadata": {},
   "source": [
    "\n",
    "\n",
    "\n",
    "\n",
    "**2)** \n",
    "\n",
    "$\\frac{dy}{dx}= cos(x+y)$\n",
    "\n",
    "Efetuando uma substituição: $z=x+y$ \n",
    "\n",
    "$\\frac{dz}{dx}=1+\\frac{dy}{dx}$\n",
    "\n",
    "Assim: $\\frac{dz}{dx}= 1 + cos(z)$\n",
    "\n",
    "Isolando: $\\frac{dz}{1+ cos z}= dx$\n",
    "\n",
    "$\\frac{dz}{1+cos[2(z/2)]}=dx$\n",
    "\n",
    "\n",
    "Sabendo que $cos(2a)= cos^2(a)-sen^2(a)$\n",
    "\n",
    "\n",
    "$\\frac{dz}{1+cos^2(z/2)-sen^2(z/2)}=dx$\n",
    "\n",
    "$\\frac{dz}{[1-sen^2(z/2)]+cos^2(z/2)}=dx$\n",
    "\n",
    "$\\frac{dz}{2cos^2(z/2)}$=$\\frac{1}{2}\\cdot\\frac{dz}{cos^2(z/2)}=dx$\n",
    "\n",
    "$\\frac{1}{2}\\cdot dz\\cdot sec^2(z/2)=dx$\n",
    "\n",
    "\n",
    "considerando $u=z/2$\n",
    "\n",
    "$2du=dz$\n",
    "\n",
    "$\\frac{2}{2}\\int du\\cdot sec^2(u)=\\int dx$\n",
    "\n",
    "$tg(u)+C=x$\n",
    "\n",
    "$x=tg(x/2+y/2)+C$\n",
    "\n",
    "\n",
    "\n",
    "\n",
    "\n"
   ]
  },
  {
   "cell_type": "markdown",
   "metadata": {},
   "source": [
    "\n",
    "\n",
    "\n",
    "\n",
    "**3)** \n",
    "\n",
    "$[(x^2)-xy+(y^2)]dx-xydy=0$\n",
    "\n",
    "Consideramos $y\\geq v\\cdot x$\n",
    "\n",
    "Assim: $\\frac{dy}{dx}= \\frac{dv}{dx}\\cdot x + \\frac{dx}{dx}\\cdot v = \\frac{dv}{dx}\\cdot x + v$\n",
    "\n",
    "$\\frac{dy}{dx}=\\frac{dv}{dx}\\cdot x + v$\n",
    "\n",
    "substituindo y na função, temos: \n",
    "\n",
    "$[x^2 -x(vx)+v^2 x^2]dx- x(vx)dy=0$\n",
    "\n",
    "$(x^2 -vx^2+v^2 x^2)dx- vx^2 dy=0$\n",
    "\n",
    "$\\frac{dy}{dx}= \\frac{(x^2 -vx^2+v^2 x^2)}{vx^2}$\n",
    "\n",
    "$\\frac{dy}{dx}=\\frac{1-v+v^2}{v}$\n",
    "\n",
    "substituindo o $\\frac{dy}{dx}$: \n",
    "\n",
    "$\\frac{dv}{dx}\\cdot x + v=\\frac{1-v+v^2}{v}$ \n",
    "\n",
    "$v-1+\\frac{1}{v}-v=x\\frac{dv}{dx}$\n",
    "\n",
    "$(-1+v^{-1})=\\frac{dv}{dx}\\cdot x$"
   ]
  },
  {
   "cell_type": "markdown",
   "metadata": {},
   "source": [
    "$\\frac{\\frac{-v+1}{v}}{dv}=\\frac{x}{dx}$\n",
    "\n",
    "$\\frac{dv}{\\frac{-v+1}{v}}=\\frac{dx}{x}$\n",
    "\n",
    "$dv\\cdot\\frac{v}{-v+1}=\\frac{dx}{x}$\n",
    "\n",
    "Por frações parciais tem-se que:\n",
    "\n",
    "$\\frac{v}{-v+1}= A + \\frac{B}{-v+1}$\n",
    "\n",
    "$\\frac{v}{-v+1}=\\frac{A(-v+1)+B}{-v+1}$\n",
    "\n",
    "$v=-Av+A+B$\n",
    "\n",
    "Assim:\n",
    "\n",
    "$-Av=v \\Rightarrow A=-1$\n",
    "\n",
    "$B+A=0 \\Rightarrow B=1$\n",
    "\n",
    "$\\frac{v}{-v+1}=(-1+\\frac{1}{-v+1})$\n",
    "\n",
    "$-dv+\\frac{dv}{-v+1}= \\frac{dx}{x}$\n",
    "\n",
    "$\\int dv + \\int\\frac{dv}{-v+1}= \\int \\frac{dx}{x}$\n",
    "\n",
    "$u= -v+1$\n",
    "\n",
    "$dv=-du$\n",
    "\n",
    "$-\\int \\frac{du}{u}= -ln|u|= -ln |-v+1|$\n",
    "\n",
    "$v -ln |(-v+1)|= ln|x|+c $\n",
    "\n",
    "$-\\frac{y}{x}-ln|\\frac{y}{x}+1|= ln|x|+C$\n",
    "\n",
    "$-x\\left( ln|\\frac{\\frac{y}{x}+1}{x}|\\right)= y + c$\n",
    "\n",
    "$-x\\left(ln|\\frac{1}{y}+ \\frac{1}{z}|\\right)= y+c$"
   ]
  },
  {
   "cell_type": "code",
   "execution_count": null,
   "metadata": {},
   "outputs": [],
   "source": []
  }
 ],
 "metadata": {
  "kernelspec": {
   "display_name": "Python 3",
   "language": "python",
   "name": "python3"
  },
  "language_info": {
   "codemirror_mode": {
    "name": "ipython",
    "version": 3
   },
   "file_extension": ".py",
   "mimetype": "text/x-python",
   "name": "python",
   "nbconvert_exporter": "python",
   "pygments_lexer": "ipython3",
   "version": "3.7.6"
  }
 },
 "nbformat": 4,
 "nbformat_minor": 2
}
