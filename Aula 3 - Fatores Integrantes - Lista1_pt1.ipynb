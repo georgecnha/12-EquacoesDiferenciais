{
 "cells": [
  {
   "cell_type": "markdown",
   "metadata": {
    "collapsed": true
   },
   "source": [
    "# Aula 3 – Fatores integrantes (Lista 1 pt.1)"
   ]
  },
  {
   "cell_type": "markdown",
   "metadata": {},
   "source": [
    "1) Por qual técnica você resolveria a EDO a seguir: $(x+y^2)dy+(y-x^2)dx = 0$?\n",
    "\n",
    "2) Resolva a seguinte EDO por Equação Exata: $y'=2x$.\n",
    "\n",
    "3) Resolva $y'=(2+exp(xy))/(2y-x\\cdot exp(xy))$.\n",
    "\n",
    "$y'=\\dfrac{2+exp(xy)}{2y-x\\cdot exp(xy)}$\n",
    "\n",
    "4) Resolva $(x+ seny)dx+(xcosy-2y)dy = 0$.\n",
    "\n",
    "5) Qual método você utilizaria para resolver a seguinte EDO: $(2x-y)dx + (2y-x)dy = 0$ ?"
   ]
  },
  {
   "cell_type": "markdown",
   "metadata": {},
   "source": [
    "### Cálculos"
   ]
  },
  {
   "cell_type": "markdown",
   "metadata": {},
   "source": [
    "#### 1) \n",
    "\n",
    "\n"
   ]
  },
  {
   "cell_type": "markdown",
   "metadata": {},
   "source": [
    "\n",
    "\n",
    "\n",
    "\n",
    "**2)** \n",
    "\n",
    "$(x^2 + 1)y' + 4xy = x $\n",
    " \n",
    "$(x^2 + 1)\\frac{dy}{dx} + 4xy - x = 0 $\n",
    "\n",
    "$(x^2 + 1)dy = - (4xy-x)dx  $\n",
    "\n",
    "$\\int (x^2 + 1 )dy = - \\int(4xy-x)dx $\n",
    "\n",
    "$x^{2}y + y = \\frac{-4x^2}{2}y + \\frac{x^2}{2} + C$\n",
    "\n",
    "$x^{2}y + y = -2x^{2}y + \\frac{x^2}{2} + C$\n",
    "\n",
    "$y= -3x^{2}y + \\frac{x^2}{2} + C$\n",
    "\n",
    "$y = x^2(-3y + \\frac{1}{2}) + C$\n",
    "\n",
    "\n"
   ]
  },
  {
   "cell_type": "markdown",
   "metadata": {},
   "source": [
    "\n",
    "\n",
    "\n",
    "**3)** \n",
    "\n"
   ]
  },
  {
   "cell_type": "markdown",
   "metadata": {},
   "source": [
    "\n",
    "**4)** \n",
    "\n",
    "$y'+y=sen(x)$\n",
    "\n",
    "$\\frac{dy}{dx}+ y = sen(x)$\n",
    "\n",
    "$\\frac{dy}{dx}=sen(x) - y$\n",
    "\n",
    "$dy= [sen(x) - y]dx$\n",
    "\n",
    "$\\int dy=\\int [sen(x) - y]dx$\n",
    "\n",
    "$y= -cos(x)-yx+C$\n",
    "\n",
    "$y + yx = -cos(x)+ C$\n",
    "\n",
    "$y(1+x)= -cos(x)+ C$ \n",
    "\n",
    "$y= -\\frac{cos(x)}{1+x}+\\frac{C}{1+x}$\n",
    "\n",
    "\n"
   ]
  },
  {
   "cell_type": "markdown",
   "metadata": {},
   "source": [
    "\n",
    "**5)** "
   ]
  }
 ],
 "metadata": {
  "kernelspec": {
   "display_name": "Python 3",
   "language": "python",
   "name": "python3"
  },
  "language_info": {
   "codemirror_mode": {
    "name": "ipython",
    "version": 3
   },
   "file_extension": ".py",
   "mimetype": "text/x-python",
   "name": "python",
   "nbconvert_exporter": "python",
   "pygments_lexer": "ipython3",
   "version": "3.7.6"
  }
 },
 "nbformat": 4,
 "nbformat_minor": 2
}
