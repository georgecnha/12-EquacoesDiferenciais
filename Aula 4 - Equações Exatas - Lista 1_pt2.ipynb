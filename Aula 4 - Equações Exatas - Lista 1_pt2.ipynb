{
 "cells": [
  {
   "cell_type": "markdown",
   "metadata": {
    "collapsed": true
   },
   "source": [
    "# Aula 4 – Equações Exatas (Lista 1 pt.2)"
   ]
  },
  {
   "cell_type": "markdown",
   "metadata": {},
   "source": [
    "1) Por qual técnica você resolveria a EDO a seguir: $(x+y^2)dy+(y-x^2)dx = 0$?\n",
    "\n",
    "2) Resolva a seguinte EDO por Equação Exata: $y'=2x$\n",
    "\n",
    "3) Resolva $y'= \\frac{(2+exp(xy))}{2y-x\\cdot exp(xy}$\n",
    "\n",
    "4) Resolva $(x+ seny)dx+(xcosy-2y)dy = 0$\n",
    "\n",
    "5) Qual método você utilizaria para resolver a seguinte EDO: $(2x-y)dx + (2y-x)dy = 0$?\n"
   ]
  },
  {
   "cell_type": "markdown",
   "metadata": {},
   "source": [
    "### Cálculos"
   ]
  },
  {
   "cell_type": "markdown",
   "metadata": {},
   "source": [
    "**1)** \n",
    "\n",
    "$(x+y^2)dy+(y-x^2)dx = 0$\n",
    "\n",
    "Segue um formato $N(x,y)dy + M(x, y)dx= 0$\n",
    "\n",
    "Pode-se testar se é exata:\n",
    "\n",
    "$M= (y-x^2)$ $\\therefore$\n",
    "$\\frac{\\partial M}{\\partial y}=  1$\n",
    "\n",
    "$N= (x+y^2)$ $\\therefore$\n",
    "$\\frac{\\partial N}{\\partial x}=  1$\n",
    "\n",
    "$\\therefore \\frac{\\partial M}{\\partial y}= \\frac{\\partial N}{\\partial x}$ \n",
    "\n",
    "Então pode ser resolvida pelo método das equações exatas."
   ]
  },
  {
   "cell_type": "markdown",
   "metadata": {},
   "source": [
    "\n",
    "\n",
    "\n",
    "\n",
    "**2)** \n",
    "\n",
    "\n"
   ]
  },
  {
   "cell_type": "markdown",
   "metadata": {},
   "source": [
    "\n",
    "\n",
    "\n",
    "**3)** \n",
    "\n"
   ]
  },
  {
   "cell_type": "markdown",
   "metadata": {},
   "source": [
    "\n",
    "**4)** \n",
    "\n"
   ]
  },
  {
   "cell_type": "markdown",
   "metadata": {},
   "source": [
    "\n",
    "**5)** \n",
    "\n",
    "$(2x-y)dx + (2y-x)dy = 0$\n",
    "\n",
    "Segue um formato $M(x, y)dx+ N(x,y)dy = 0$\n",
    "\n",
    "Pode-se testar se é exata:\n",
    "\n",
    "$M= 2x-y$ \n",
    "$\\therefore \\frac{\\partial M}{\\partial y}=  -1$\n",
    "\n",
    "$N= 2y-x$\n",
    "$\\therefore \\frac{\\partial N}{\\partial x}=  -1$\n",
    "\n",
    "$\\therefore \\frac{\\partial M}{\\partial y}= \\frac{\\partial N}{\\partial x}$ \n",
    "\n",
    "A EDO pode ser resolvida pelo método das equações exatas.\n",
    "\n"
   ]
  }
 ],
 "metadata": {
  "kernelspec": {
   "display_name": "Python 3",
   "language": "python",
   "name": "python3"
  },
  "language_info": {
   "codemirror_mode": {
    "name": "ipython",
    "version": 3
   },
   "file_extension": ".py",
   "mimetype": "text/x-python",
   "name": "python",
   "nbconvert_exporter": "python",
   "pygments_lexer": "ipython3",
   "version": "3.7.6"
  }
 },
 "nbformat": 4,
 "nbformat_minor": 2
}
