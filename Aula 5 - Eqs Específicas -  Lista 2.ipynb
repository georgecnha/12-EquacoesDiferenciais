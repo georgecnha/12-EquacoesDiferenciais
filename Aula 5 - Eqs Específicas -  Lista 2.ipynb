{
 "cells": [
  {
   "cell_type": "markdown",
   "metadata": {},
   "source": [
    "***************Primeira parte da lista a ser entregue no dia 22/07**************\n",
    "\n",
    "Resolva as seguintes EDO`s:\n",
    " \n",
    "1) $(x^3+y^2)dx + (2xy+cosy)dy = 0$\n",
    "\n",
    "2) $(e^y)dx + (xe^y -2y)dy = 0$\n",
    "\n",
    "3) $2xy\\cdot dx + (x^2)dy = 0$\n",
    "\n",
    "4) $senh(x)\\cdot cosydx = cosh(x) \\cdot seny\\cdot dy$ (verificar definição de senh(x) - seno hiperbólico de x)."
   ]
  },
  {
   "cell_type": "markdown",
   "metadata": {},
   "source": [
    "**Respostas**"
   ]
  },
  {
   "cell_type": "markdown",
   "metadata": {},
   "source": [
    "1) $(x^3+y^2)dx + [2xy+cos(y)]dy = 0$\n",
    "\n"
   ]
  },
  {
   "cell_type": "markdown",
   "metadata": {},
   "source": [
    "**2)** \n",
    "\n",
    "$(e^y)dx + (xe^y -2y)dy = 0$\n",
    "\n",
    "$M(x,y)=e^y$ $\\therefore$ $\\frac{\\partial M}{\\partial y}= e^y$\n",
    "\n",
    "\n",
    "$N(x,y)=xe^y$ $\\therefore$ $\\frac{\\partial N}{\\partial x}= e^y$\n",
    "\n",
    "Sabendo que $\\frac{\\partial M}{\\partial y}= \\frac{\\partial N}{\\partial x}$, logo a equação é exata\n",
    "\n",
    "Sabe-se, então que existe um $f=c \\;\\;\\;\\;\\therefore df=0$\n",
    "\n",
    "$df= \\frac{\\partial f}{\\partial x}dx + \\frac{\\partial f}{\\partial y}dy$\n",
    "\n",
    "Assim: \n",
    "\n",
    "$\\frac{\\partial f}{\\partial x}= (e^y)$\n",
    "\n",
    "$f=\\int (e^y)dx= xe^y + h(y)$\n",
    "\n",
    "Efetuanto a Dy no f recém descoberto:\n",
    "\n",
    "$\\frac{\\partial f}{\\partial y}=xe^y + h'(y)$  $\\;\\;\\;\\;\\;\\;\\;\\;\\;\\;\\;\\;\\;$ **(1)**\n",
    "\n",
    "Sabemos por definição que:\n",
    "\n",
    "$\\frac{\\partial f}{\\partial y}= (xe^y -2y)$   $\\;\\;\\;\\;\\;\\;\\;\\;\\;\\;\\;\\;\\;$**(2)**\n",
    "\n",
    "Igualando (1) e (2), temos: $xe^y + h'(y)=xe^y -2y$\n",
    "\n",
    "$h'(y)= -2y$\n",
    "\n",
    "$\\frac{dh}{dy}= -2y \\;\\;\\;\\;\\therefore \\int dh= \\int -2y\\cdot dy$\n",
    "\n",
    "$ h(y)= -2y^2/2 + K$  $\\;\\;\\;\\;\\;\\; \\Rightarrow  h(y)= -y^2 + K$\n",
    "\n",
    "\n",
    "$f= c = xe^y + -y^2 + K$\n",
    "\n",
    "Definindo $C= c + K$:\n",
    "\n",
    "$xe^y + -y^2 = C $\n",
    "\n",
    "\n",
    "\n",
    "\n",
    "\n"
   ]
  },
  {
   "cell_type": "markdown",
   "metadata": {},
   "source": [
    "3)\n",
    "\n",
    "$2xy\\cdot dx + (x^2)dy = 0$"
   ]
  },
  {
   "cell_type": "markdown",
   "metadata": {},
   "source": [
    "4) \n",
    "\n",
    "$senh(x)\\cdot cos(y)dx = cosh(x) \\cdot seny\\cdot dy$ (verificar definição de senh(x) - seno hiperbólico de x).\n",
    "\n",
    "$M(x,y)=senh(x)\\cdot cos(y) \\;\\;\\; \\therefore$ $\\frac{\\partial M}{\\partial y}= -senh(x)\\cdot sen(y) $\n",
    "\n",
    "\n",
    "$N(x,y)=-cosh(x)\\cdot sen(y) \\;\\;\\; \\therefore$ $\\frac{\\partial N}{\\partial x}= -senh(x)\\cdot sen(y)$\n",
    "\n",
    "Sabendo que $\\frac{\\partial M}{\\partial y}= \\frac{\\partial N}{\\partial x}$, logo a equação é exata\n",
    "\n",
    "Sabe-se, então que existe um $f=c \\;\\;\\;\\;\\therefore df=0$\n",
    "\n",
    "$df= \\frac{\\partial f}{\\partial x}dx + \\frac{\\partial f}{\\partial y}dy$\n",
    "\n",
    "\n",
    "Assim: \n",
    "\n",
    "$\\frac{\\partial f}{\\partial x}= senh(x)\\cdot cos(y)$\n",
    "\n",
    "$f=\\int senh(x)\\cdot cos(y)dx= cosh(x)\\cdot cos(y) + h(y)$\n",
    "\n",
    "Efetuanto a Dy no f recém descoberto:\n",
    "\n",
    "$\\frac{\\partial f}{\\partial y}=-cosh(x)\\cdot sen(y) + h'(y)$  $\\;\\;\\;\\;\\;\\;\\;\\;\\;\\;\\;\\;\\;$ **(1)**\n",
    "\n",
    "Sabemos por definição que:\n",
    "\n",
    "$\\frac{\\partial f}{\\partial y}= -cosh(x)\\cdot sen(y)$   $\\;\\;\\;\\;\\;\\;\\;\\;\\;\\;\\;\\;\\;\\;\\;\\;\\;\\;\\;\\;\\;\\;\\;\\;$**(2)**\n",
    "\n",
    "Igualando (1) e (2), temos: $-cosh(x)\\cdot sen(y) + h'(y)=-cosh(x)\\cdot sen(y)$\n",
    "\n",
    "$h'(y)= 0 \\;\\;\\; \\therefore h(y)=c$\n",
    "\n",
    "$f= senh(x)\\cdot cos(y) -cosh(x)\\cdot sen(y)= C$"
   ]
  },
  {
   "cell_type": "code",
   "execution_count": null,
   "metadata": {},
   "outputs": [],
   "source": []
  },
  {
   "cell_type": "code",
   "execution_count": null,
   "metadata": {},
   "outputs": [],
   "source": []
  }
 ],
 "metadata": {
  "kernelspec": {
   "display_name": "Python 3",
   "language": "python",
   "name": "python3"
  },
  "language_info": {
   "codemirror_mode": {
    "name": "ipython",
    "version": 3
   },
   "file_extension": ".py",
   "mimetype": "text/x-python",
   "name": "python",
   "nbconvert_exporter": "python",
   "pygments_lexer": "ipython3",
   "version": "3.7.6"
  }
 },
 "nbformat": 4,
 "nbformat_minor": 4
}
