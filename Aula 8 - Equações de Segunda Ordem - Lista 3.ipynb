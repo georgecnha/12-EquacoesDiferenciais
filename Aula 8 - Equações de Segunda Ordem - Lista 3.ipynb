{
 "cells": [
  {
   "cell_type": "markdown",
   "metadata": {},
   "source": [
    "Resolva utilizando o método de resolução de equações de segunda ordem homogênea com coeficientes constantes.\n",
    "\n",
    "1) $y\"-5y = 0$\n",
    "\n",
    "2) $y\"- y'-2y = 0$\n",
    "\n",
    "3) $y\"= 0$, compare com o método de separação de variáveis.\n",
    "\n",
    "4) $y\"+2y'+y =0$\n"
   ]
  },
  {
   "cell_type": "code",
   "execution_count": null,
   "metadata": {},
   "outputs": [],
   "source": []
  },
  {
   "cell_type": "markdown",
   "metadata": {},
   "source": [
    "**2)**\n",
    "\n",
    "$y''-y'-2y=0$\n",
    "\n",
    "Com $y=e^{rt}\\;\\therefore\\;(r^2-r-2)\\cdot e^{rt}=0$\n",
    "\n",
    "$\\therefore\\; r^2-r-2=0$\n",
    "\n",
    "$a=1;\\;b=-1;\\;c=-2\\;\\;\\;\\therefore \\Delta=(-1)^2 -4\\cdot 1\\cdot -2= 9$\n",
    "\n",
    "\n",
    "$r_1= \\dfrac{-(-1)+\\sqrt{9}}{2}= 2$\n",
    "\n",
    "$r_2= \\dfrac{-(-1)-\\sqrt{9}}{2}= -1$\n",
    "\n",
    "$\\;$\n",
    "\n",
    "Logo:\n",
    "\n",
    "$y_1=e^{r_1 t} =e^{2t}$\n",
    "\n",
    "$y_2= e^{-t}$\n",
    "\n",
    "então, pelo princípio da superposição:\n",
    "\n",
    "$y= c_1\\cdot e^{2t} + c_2\\cdot e^{-t}$\n"
   ]
  },
  {
   "cell_type": "code",
   "execution_count": null,
   "metadata": {},
   "outputs": [],
   "source": []
  },
  {
   "cell_type": "markdown",
   "metadata": {},
   "source": [
    "**4)**\n",
    "\n",
    "$y\"+2y'+y =0$\n",
    "\n",
    "Com $y=e^{rt}\\;\\therefore\\;(r^2+2r+1)\\cdot e^{rt}=0$\n",
    "\n",
    "$\\therefore\\; r^2+2r+1=0$\n",
    "\n",
    "$a=1;\\;b=2;\\;c=1\\;\\;\\;\\therefore\\;\\;\\;\\; \\Delta=2^2 -4\\cdot 1\\cdot 1= 0$\n",
    "\n",
    "$r=\\frac{-b}{2a}= -1$\n",
    "\n",
    "r tem duas raízes reais e iguais, então a solução geral é obtida pelo método de D'Alembert:\n",
    "\n",
    "$y= (c_1+c_2\\cdot t)\\cdot e^{\\frac{-b}{2a}\\cdot t}$\n",
    "$\\;$\n",
    "\n",
    "\n",
    "$y= (c_1+c_2\\cdot t)\\cdot e^{-t}$\n",
    "\n",
    "Sendo $c_1$ e $c_2$ constantes.\n"
   ]
  },
  {
   "cell_type": "code",
   "execution_count": null,
   "metadata": {},
   "outputs": [],
   "source": []
  }
 ],
 "metadata": {
  "kernelspec": {
   "display_name": "Python 3",
   "language": "python",
   "name": "python3"
  },
  "language_info": {
   "codemirror_mode": {
    "name": "ipython",
    "version": 3
   },
   "file_extension": ".py",
   "mimetype": "text/x-python",
   "name": "python",
   "nbconvert_exporter": "python",
   "pygments_lexer": "ipython3",
   "version": "3.7.6"
  }
 },
 "nbformat": 4,
 "nbformat_minor": 4
}
