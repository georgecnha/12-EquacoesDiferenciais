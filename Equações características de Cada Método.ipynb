{
 "cells": [
  {
   "cell_type": "markdown",
   "metadata": {},
   "source": [
    "\n",
    "D'Alembert\n",
    "\n",
    "$y = c_{1} \\cdot e^{\\frac{-b}{2a}}+ c_2' \\cdot (At+B)\\cdot e^{\\frac{-b}{2a}t}$\n"
   ]
  },
  {
   "cell_type": "markdown",
   "metadata": {},
   "source": [
    "Euler-Cauchy\n",
    "\n",
    "\n",
    "Caso I: Raízes Reais e distintas\n",
    "\n",
    "$y= c_1x^{m_1}+ c_2x^{m_2}$\n",
    "\n",
    "Caso II: Raízes Reais e iguais\n",
    "\n",
    "$y= [c_1+c_2ln(x)]\\cdot x^{\\frac{1}{2}(1-a)}$\n",
    "\n",
    "Caso III: Par COmplexo Conjugado\n",
    "\n",
    "$y= x^\\lambda [cos()]$\n"
   ]
  },
  {
   "cell_type": "code",
   "execution_count": null,
   "metadata": {},
   "outputs": [],
   "source": []
  }
 ],
 "metadata": {
  "kernelspec": {
   "display_name": "Python 3",
   "language": "python",
   "name": "python3"
  },
  "language_info": {
   "codemirror_mode": {
    "name": "ipython",
    "version": 3
   },
   "file_extension": ".py",
   "mimetype": "text/x-python",
   "name": "python",
   "nbconvert_exporter": "python",
   "pygments_lexer": "ipython3",
   "version": "3.7.6"
  }
 },
 "nbformat": 4,
 "nbformat_minor": 4
}
